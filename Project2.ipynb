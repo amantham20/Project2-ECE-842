{
 "cells": [
  {
   "cell_type": "markdown",
   "metadata": {},
   "source": [
    "# ECE 842 Project 2\n",
    "----\n",
    "- **Name**: Aman Dhruva Thamminana\n",
    "- **Student ID**: 160555256\n",
    "- **Email**: thammina@msu.edu"
   ]
  },
  {
   "cell_type": "code",
   "execution_count": 4,
   "metadata": {},
   "outputs": [],
   "source": [
    "import subprocess\n",
    "import pandas as pd\n",
    "import matplotlib.pyplot as plt\n",
    "import os"
   ]
  },
  {
   "cell_type": "code",
   "execution_count": null,
   "metadata": {},
   "outputs": [],
   "source": [
    "def rename_file(new_name, old_name = 'tracefile'):\n",
    "    try:\n",
    "        os.rename(old_name, new_name)\n",
    "        return True\n",
    "    except OSError as e:\n",
    "        print(f\"Error: {e}\")\n",
    "        return False"
   ]
  },
  {
   "cell_type": "markdown",
   "metadata": {},
   "source": [
    "# Expirement 1:"
   ]
  },
  {
   "cell_type": "code",
   "execution_count": null,
   "metadata": {},
   "outputs": [],
   "source": [
    "cap = 100000 # channel capacity (bps)  \n",
    "psize = 800 # packet size (bytes)\n",
    "qsize = 10000 # queue size (packets)\n",
    "\n",
    "# Run simulations\n",
    "\n",
    "for t in [10, 100, 1000, 10000]:\n",
    "    cmd = f'Qsim.exe 10 p {cap} {psize*8} c {qsize} {t}' \n",
    "    subprocess.check_output(cmd, shell=True, text=True)\n"
   ]
  },
  {
   "cell_type": "code",
   "execution_count": null,
   "metadata": {},
   "outputs": [],
   "source": [
    "rename_file('Expirement1.txt', 'tracefile')"
   ]
  },
  {
   "cell_type": "code",
   "execution_count": null,
   "metadata": {},
   "outputs": [],
   "source": [
    "df = pd.read_csv('filename', columns=['Time', 'Util', 'Pop', 'Delay'], header=None) "
   ]
  },
  {
   "cell_type": "markdown",
   "metadata": {},
   "source": [
    "# Expirement 2:"
   ]
  },
  {
   "cell_type": "code",
   "execution_count": null,
   "metadata": {},
   "outputs": [],
   "source": [
    "# Experiment 2 parameters\n",
    "cap = 100000 \n",
    "psize = 800\n",
    "qsize = 10000\n",
    "times = 10000\n",
    "\n",
    "# Run simulations\n",
    "arr_rates = [1, 4, 7, 10, 13, 15]\n",
    "\n",
    "for rate in arr_rates:\n",
    "    cmd = f'Qsim.exe {rate} p {cap} {psize*8} c {qsize} {times}'\n",
    "    out = subprocess.check_output(cmd, shell=True, text=True)"
   ]
  },
  {
   "cell_type": "code",
   "execution_count": null,
   "metadata": {},
   "outputs": [],
   "source": [
    "rename_file('Expirement2.txt', 'tracefile')"
   ]
  },
  {
   "cell_type": "markdown",
   "metadata": {},
   "source": [
    "# Expirement 3:"
   ]
  },
  {
   "cell_type": "code",
   "execution_count": null,
   "metadata": {},
   "outputs": [],
   "source": [
    "# Experiment 3 parameters\n",
    "cap = 100000\n",
    "psize = 800 \n",
    "qsize = 10000\n",
    "times = 10000\n",
    "arr_rates = [1, 4, 7, 10, 13, 15] \n",
    "\n",
    "mm1k_delays = []\n",
    "for rate in arr_rates:\n",
    "    cmd = f'Qsim.exe {rate} p {cap} {psize*8} p {qsize} {times}'\n",
    "    subprocess.check_output(cmd, shell=True, text=True)\n",
    "\n",
    "# Run M/D/1/K simulations    \n",
    "md1k_delays = []\n",
    "for rate in arr_rates:\n",
    "    cmd = f'Qsim.exe {rate} p {cap} {psize*8} c {qsize} {times}' \n",
    "    subprocess.check_output(cmd, shell=True, text=True)\n",
    "    \n",
    "# Run D/M/1/K simulations\n",
    "for rate in arr_rates:\n",
    "    cmd = f'Qsim.exe {rate} c {cap} {psize*8} p {qsize} {times}'\n",
    "    subprocess.check_output(cmd, shell=True, text=True)\n"
   ]
  },
  {
   "cell_type": "markdown",
   "metadata": {},
   "source": [
    "# Expirement 4:"
   ]
  },
  {
   "cell_type": "code",
   "execution_count": 5,
   "metadata": {},
   "outputs": [],
   "source": [
    "# Experiment 4 parameters\n",
    "cap = 100000\n",
    "psize = 800\n",
    "times = 10000\n",
    "arr_rates = [1, 4, 7, 10, 13, 16, 19, 22, 25]"
   ]
  }
 ],
 "metadata": {
  "kernelspec": {
   "display_name": "base",
   "language": "python",
   "name": "python3"
  },
  "language_info": {
   "codemirror_mode": {
    "name": "ipython",
    "version": 3
   },
   "file_extension": ".py",
   "mimetype": "text/x-python",
   "name": "python",
   "nbconvert_exporter": "python",
   "pygments_lexer": "ipython3",
   "version": "3.11.3"
  }
 },
 "nbformat": 4,
 "nbformat_minor": 2
}
