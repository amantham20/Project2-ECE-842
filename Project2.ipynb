{
 "cells": [
  {
   "cell_type": "markdown",
   "metadata": {},
   "source": [
    "# ECE 842 Project 2\n",
    "----\n",
    "- **Name**: Aman Dhruva Thamminana\n",
    "- **Student ID**: 160555256\n",
    "- **Email**: thammina@msu.edu"
   ]
  },
  {
   "cell_type": "code",
   "execution_count": 1,
   "metadata": {},
   "outputs": [],
   "source": [
    "import subprocess\n",
    "import pandas as pd\n",
    "import matplotlib.pyplot as plt\n",
    "import os"
   ]
  },
  {
   "cell_type": "code",
   "execution_count": 14,
   "metadata": {},
   "outputs": [
    {
     "data": {
      "text/plain": [
       "'c:\\\\sim'"
      ]
     },
     "execution_count": 14,
     "metadata": {},
     "output_type": "execute_result"
    }
   ],
   "source": [
    "os.getcwd()\n"
   ]
  },
  {
   "cell_type": "code",
   "execution_count": 2,
   "metadata": {},
   "outputs": [],
   "source": [
    "def rename_file(new_name, old_name = 'tracefile'):\n",
    "    try:\n",
    "        os.rename(old_name, new_name)\n",
    "        return True\n",
    "    except OSError as e:\n",
    "        print(f\"Error: {e}\")\n",
    "        return False"
   ]
  },
  {
   "cell_type": "markdown",
   "metadata": {},
   "source": [
    "# Expirement 1:"
   ]
  },
  {
   "cell_type": "code",
   "execution_count": 3,
   "metadata": {},
   "outputs": [],
   "source": [
    "cap = 100000 # channel capacity (bps)  \n",
    "psize = 800 # packet size (bytes)\n",
    "qsize = 10000 # queue size (packets)\n",
    "\n",
    "# Run simulations\n",
    "\n",
    "for t in [10, 100, 1000, 10000]:\n",
    "    cmd = f'Qsim.exe 10 p {cap} {psize*8} c {qsize} {t}' \n",
    "    subprocess.check_output(cmd, shell=True, text=True)\n"
   ]
  },
  {
   "cell_type": "code",
   "execution_count": 4,
   "metadata": {},
   "outputs": [
    {
     "data": {
      "text/plain": [
       "True"
      ]
     },
     "execution_count": 4,
     "metadata": {},
     "output_type": "execute_result"
    }
   ],
   "source": [
    "rename_file('Expirement1.txt', 'tracefile')"
   ]
  },
  {
   "cell_type": "code",
   "execution_count": 10,
   "metadata": {},
   "outputs": [],
   "source": [
    "def expirement1():\n",
    "\n",
    "    data_list = []\n",
    "    with open('Expirement1.txt', 'r') as file:\n",
    "        lines = file.readlines()\n",
    "\n",
    "\n",
    "        for line in lines:\n",
    "            values = line.strip().split(',')\n",
    "            utilization = float(values[0].split(': ')[1])\n",
    "            avg_packet_delay = float(values[1].split(': ')[1])\n",
    "            num_packet_in_system = float(values[2].split(': ')[1])\n",
    "            packet_drop_rate = float(values[3].split(': ')[1])\n",
    "            \n",
    "            data_list.append([utilization, avg_packet_delay, num_packet_in_system, packet_drop_rate])\n",
    "\n",
    "\n",
    "    df = pd.DataFrame(data_list, columns=['Utilization', 'Average Packet Delay', '# of packet in system', 'Packet Drop Rate'])\n",
    "\n",
    "    return df\n"
   ]
  },
  {
   "cell_type": "code",
   "execution_count": 15,
   "metadata": {},
   "outputs": [
    {
     "data": {
      "text/html": [
       "<div>\n",
       "<style scoped>\n",
       "    .dataframe tbody tr th:only-of-type {\n",
       "        vertical-align: middle;\n",
       "    }\n",
       "\n",
       "    .dataframe tbody tr th {\n",
       "        vertical-align: top;\n",
       "    }\n",
       "\n",
       "    .dataframe thead th {\n",
       "        text-align: right;\n",
       "    }\n",
       "</style>\n",
       "<table border=\"1\" class=\"dataframe\">\n",
       "  <thead>\n",
       "    <tr style=\"text-align: right;\">\n",
       "      <th></th>\n",
       "      <th>Utilization</th>\n",
       "      <th>Population</th>\n",
       "      <th>Delay</th>\n",
       "    </tr>\n",
       "  </thead>\n",
       "  <tbody>\n",
       "    <tr>\n",
       "      <th>10</th>\n",
       "      <td>0.5477</td>\n",
       "      <td>0.760148</td>\n",
       "      <td>0.090234</td>\n",
       "    </tr>\n",
       "    <tr>\n",
       "      <th>100</th>\n",
       "      <td>0.6195</td>\n",
       "      <td>1.143079</td>\n",
       "      <td>0.118346</td>\n",
       "    </tr>\n",
       "    <tr>\n",
       "      <th>1000</th>\n",
       "      <td>0.6280</td>\n",
       "      <td>1.158088</td>\n",
       "      <td>0.118047</td>\n",
       "    </tr>\n",
       "    <tr>\n",
       "      <th>10000</th>\n",
       "      <td>0.6392</td>\n",
       "      <td>1.190680</td>\n",
       "      <td>0.119213</td>\n",
       "    </tr>\n",
       "  </tbody>\n",
       "</table>\n",
       "</div>"
      ],
      "text/plain": [
       "       Utilization  Population     Delay\n",
       "10          0.5477    0.760148  0.090234\n",
       "100         0.6195    1.143079  0.118346\n",
       "1000        0.6280    1.158088  0.118047\n",
       "10000       0.6392    1.190680  0.119213"
      ]
     },
     "execution_count": 15,
     "metadata": {},
     "output_type": "execute_result"
    }
   ],
   "source": [
    "exp1_df = expirement1()\n",
    "# remove idex Packet Drop Rate\n",
    "if 'Packet Drop Rate' in exp1_df.columns:\n",
    "    exp1_df = exp1_df.drop(columns=['Packet Drop Rate'])\n",
    "\n",
    "exp1_df.index = [10, 100, 1000, 10000]\n",
    "\n",
    "# rename columns\n",
    "exp1_df.columns = ['Utilization', 'Delay', 'Population']\n",
    "# reorder columns\n",
    "exp1_df = exp1_df[['Utilization', 'Population', 'Delay']]\n",
    "exp1_df\n"
   ]
  },
  {
   "cell_type": "markdown",
   "metadata": {},
   "source": [
    "# Expirement 2:"
   ]
  },
  {
   "cell_type": "code",
   "execution_count": 16,
   "metadata": {},
   "outputs": [],
   "source": [
    "# Experiment 2 parameters\n",
    "cap = 100000 \n",
    "psize = 800\n",
    "qsize = 10000\n",
    "times = 10000\n",
    "\n",
    "# Run simulations\n",
    "arr_rates = [1, 4, 7, 10, 13, 15]\n",
    "\n",
    "for rate in arr_rates:\n",
    "    cmd = f'Qsim.exe {rate} p {cap} {psize*8} c {qsize} {times}'\n",
    "    subprocess.check_output(cmd, shell=True, text=True)"
   ]
  },
  {
   "cell_type": "code",
   "execution_count": 17,
   "metadata": {},
   "outputs": [
    {
     "data": {
      "text/plain": [
       "True"
      ]
     },
     "execution_count": 17,
     "metadata": {},
     "output_type": "execute_result"
    }
   ],
   "source": [
    "rename_file('Expirement2.txt', 'tracefile')"
   ]
  },
  {
   "cell_type": "code",
   "execution_count": 22,
   "metadata": {},
   "outputs": [],
   "source": [
    "def expirement2():\n",
    "    data_list = []\n",
    "    with open('Expirement2.txt', 'r') as file:\n",
    "        lines = file.readlines()\n",
    "\n",
    "        for line in lines:\n",
    "            values = line.strip().split(',')\n",
    "            utilization = float(values[0].split(': ')[1])\n",
    "            avg_packet_delay = float(values[1].split(': ')[1])\n",
    "            num_packet_in_system = float(values[2].split(': ')[1])\n",
    "            packet_drop_rate = float(values[3].split(': ')[1])\n",
    "            \n",
    "            data_list.append([utilization, avg_packet_delay, num_packet_in_system, packet_drop_rate])\n",
    "\n",
    "\n",
    "    df = pd.DataFrame(data_list, columns=['Utilization', 'Average Packet Delay', 'Population', 'Packet Drop Rate'])\n",
    "\n",
    "    return df"
   ]
  },
  {
   "cell_type": "code",
   "execution_count": 23,
   "metadata": {},
   "outputs": [],
   "source": [
    "expirement2_df = expirement2()\n",
    "expirement2_df.index = arr_rates\n"
   ]
  },
  {
   "cell_type": "code",
   "execution_count": 27,
   "metadata": {},
   "outputs": [
    {
     "data": {
      "image/png": "[encoded data removed]",
      "text/plain": [
       "<Figure size 432x288 with 1 Axes>"
      ]
     },
     "metadata": {
      "needs_background": "light"
     },
     "output_type": "display_data"
    }
   ],
   "source": [
    "plt.plot(expirement2_df.index, expirement2_df['Population'])\n",
    "plt.xlabel('Arrival Rate (packets/sec)')\n",
    "plt.ylabel('Population')\n",
    "\n",
    "plt.show()"
   ]
  },
  {
   "cell_type": "code",
   "execution_count": 28,
   "metadata": {},
   "outputs": [
    {
     "data": {
      "image/png": "[encoded data removed]",
      "text/plain": [
       "<Figure size 432x288 with 1 Axes>"
      ]
     },
     "metadata": {
      "needs_background": "light"
     },
     "output_type": "display_data"
    }
   ],
   "source": [
    "plt.plot(expirement2_df.index, expirement2_df['Average Packet Delay'])\n",
    "plt.xlabel('Arrival Rate (packets/sec)')  \n",
    "plt.ylabel('Delay (sec)')\n",
    "plt.title('Delay vs Arrival Rate')\n",
    "plt.show()"
   ]
  },
  {
   "cell_type": "code",
   "execution_count": 29,
   "metadata": {},
   "outputs": [
    {
     "name": "stdout",
     "output_type": "stream",
     "text": [
      "Max rate for delay <=400ms: 13\n"
     ]
    }
   ],
   "source": [
    "max_rate = expirement2_df[expirement2_df['Average Packet Delay'] <= 0.4].index.max()\n",
    "print(f\"Max rate for delay <=400ms: {max_rate}\")"
   ]
  },
  {
   "cell_type": "markdown",
   "metadata": {},
   "source": [
    "this conforms with the graph above"
   ]
  },
  {
   "cell_type": "markdown",
   "metadata": {},
   "source": [
    "# Expirement 3:"
   ]
  },
  {
   "cell_type": "code",
   "execution_count": 31,
   "metadata": {},
   "outputs": [],
   "source": [
    "# Experiment 3 parameters\n",
    "cap = 100000\n",
    "psize = 800 \n",
    "qsize = 10000\n",
    "times = 10000\n",
    "arr_rates = [1, 4, 7, 10, 13, 15] \n",
    "\n",
    "!echo -------------------------Expirement3MM1------------------------- > tracefile\n",
    "mm1t_delays = []\n",
    "for rate in arr_rates:\n",
    "    cmd = f'Qsim.exe {rate} p {cap} {psize*8} p {qsize} {times}'\n",
    "    subprocess.check_output(cmd, shell=True, text=True)\n",
    "\n",
    "!echo -------------------------Expirement3MD1------------------------- >> tracefile\n",
    "# Run M/D/1/K simulations    \n",
    "md1t_delays = []\n",
    "for rate in arr_rates:\n",
    "    cmd = f'Qsim.exe {rate} p {cap} {psize*8} c {qsize} {times}' \n",
    "    subprocess.check_output(cmd, shell=True, text=True)\n",
    "    \n",
    "!echo -------------------------Expirement3DM1------------------------- >> tracefile\n",
    "# Run D/M/1/K simulations\n",
    "dm1t_delays = []\n",
    "for rate in arr_rates:\n",
    "    cmd = f'Qsim.exe {rate} c {cap} {psize*8} p {qsize} {times}'\n",
    "    subprocess.check_output(cmd, shell=True, text=True)\n"
   ]
  },
  {
   "cell_type": "code",
   "execution_count": 32,
   "metadata": {},
   "outputs": [
    {
     "data": {
      "text/plain": [
       "True"
      ]
     },
     "execution_count": 32,
     "metadata": {},
     "output_type": "execute_result"
    }
   ],
   "source": [
    "rename_file('Expirement3.txt', 'tracefile')"
   ]
  },
  {
   "cell_type": "markdown",
   "metadata": {},
   "source": [
    "# Expirement 4:"
   ]
  },
  {
   "cell_type": "code",
   "execution_count": 33,
   "metadata": {},
   "outputs": [],
   "source": [
    "# Experiment 4 parameters\n",
    "cap = 100000\n",
    "psize = 800\n",
    "times = 10000\n",
    "arr_rates = [1, 4, 7, 10, 13, 16, 19, 22, 25]"
   ]
  },
  {
   "cell_type": "code",
   "execution_count": 35,
   "metadata": {},
   "outputs": [],
   "source": [
    "\n",
    "for k in range(1, 11):\n",
    "    \n",
    "    subprocess.check_output(f'echo ----------------------------- k={k} --------------------------- >> tracefile', shell=True, text=True)\n",
    "    for rate in arr_rates:\n",
    "        cmd = f'Qsim.exe {rate} p {cap} {psize*8} p {k} {times}' \n",
    "        subprocess.check_output(cmd, shell=True, text=True)\n"
   ]
  },
  {
   "cell_type": "code",
   "execution_count": 36,
   "metadata": {},
   "outputs": [
    {
     "data": {
      "text/plain": [
       "True"
      ]
     },
     "execution_count": 36,
     "metadata": {},
     "output_type": "execute_result"
    }
   ],
   "source": [
    "rename_file('Expirement4.txt', 'tracefile')"
   ]
  },
  {
   "cell_type": "code",
   "execution_count": null,
   "metadata": {},
   "outputs": [],
   "source": []
  }
 ],
 "metadata": {
  "kernelspec": {
   "display_name": "base",
   "language": "python",
   "name": "python3"
  },
  "language_info": {
   "codemirror_mode": {
    "name": "ipython",
    "version": 3
   },
   "file_extension": ".py",
   "mimetype": "text/x-python",
   "name": "python",
   "nbconvert_exporter": "python",
   "pygments_lexer": "ipython3",
   "version": "3.9.12"
  }
 },
 "nbformat": 4,
 "nbformat_minor": 2
}
